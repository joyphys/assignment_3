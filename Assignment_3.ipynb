{
 "cells": [
  {
   "cell_type": "code",
   "execution_count": null,
   "id": "652b3711",
   "metadata": {},
   "outputs": [],
   "source": [
    "1. Why are functions advantageous to have in your programs?\n",
    "\n",
    "A function reduces the need to repeat or replicate a part of code that will be used multiple times.\n",
    "It makes the code appear simpler and increases the clarity. THis is because it segments a complex and large code into \n",
    "multiple parts."
   ]
  },
  {
   "cell_type": "code",
   "execution_count": null,
   "id": "d0b178a4",
   "metadata": {},
   "outputs": [],
   "source": [
    "2. When does the code in a function run: when it's specified or when it's called?\n",
    "    \n",
    "    The code inside a function runs whenever  the function is called.\n",
    "    It is specified when we define the function.\n",
    "    It is called whenever we mention the name of the function, with whatever argument required, inside our code."
   ]
  },
  {
   "cell_type": "code",
   "execution_count": null,
   "id": "68208357",
   "metadata": {},
   "outputs": [],
   "source": [
    "3. What statement creates a function?\n",
    "\n",
    "'def function_name():' creates a functions."
   ]
  },
  {
   "cell_type": "code",
   "execution_count": 1,
   "id": "336c8a38",
   "metadata": {},
   "outputs": [],
   "source": [
    "4. What is the difference between a function and a function call?\n",
    "\n",
    " A function is a piece of code that performs a particular operation and returns a result.\n",
    "    A function call is the code that hands the control over to the function.\n"
   ]
  },
  {
   "cell_type": "code",
   "execution_count": null,
   "id": "3cfac993",
   "metadata": {},
   "outputs": [],
   "source": [
    "5. How many global scopes are there in a Python program? How many local scopes?\n",
    "\n",
    " One global scope per program.\n",
    "    \n",
    "    As many local scopes as one employs."
   ]
  },
  {
   "cell_type": "code",
   "execution_count": null,
   "id": "75793f9b",
   "metadata": {},
   "outputs": [],
   "source": [
    "6. What happens to variables in a local scope when the function call returns?\n",
    "\n",
    "After the function returns the output, the local variables become undefined.  "
   ]
  },
  {
   "cell_type": "code",
   "execution_count": null,
   "id": "09328ac9",
   "metadata": {},
   "outputs": [],
   "source": [
    "7. What is the concept of a return value? Is it possible to have a return value in an expression?\n",
    "\n",
    "When a function is called with somew inputs or no inputs, it executes the code within and returns an output \n",
    "that is used employed in the code where the function has been called.\n",
    "\n"
   ]
  },
  {
   "cell_type": "code",
   "execution_count": 14,
   "id": "6a26980e",
   "metadata": {},
   "outputs": [],
   "source": [
    "8. If a function does not have a return statement, what is the return value of a call to that function?\n",
    "\n",
    "There won't be any return value, but whather statements are there inside the function, they will be all executed.\n",
    "No local variable will retain its value after the execution of the function."
   ]
  },
  {
   "cell_type": "code",
   "execution_count": 20,
   "id": "23e5accb",
   "metadata": {},
   "outputs": [
    {
     "data": {
      "text/plain": [
       "10"
      ]
     },
     "execution_count": 20,
     "metadata": {},
     "output_type": "execute_result"
    }
   ],
   "source": [
    "9. How do you make a function variable refer to the global variable?\n",
    "\n",
    "\n",
    "To make a function variable refer to a global varaible, we have to define it outside the function."
   ]
  },
  {
   "cell_type": "code",
   "execution_count": null,
   "id": "887652bd",
   "metadata": {},
   "outputs": [],
   "source": [
    "10. What is the data type of None?\n",
    "\n",
    "NonType"
   ]
  },
  {
   "cell_type": "code",
   "execution_count": null,
   "id": "ec95f3b7",
   "metadata": {},
   "outputs": [],
   "source": [
    "11. What does the sentence import areallyourpetsnamederic do?\n",
    "\n",
    "It imports the module 'areallyourpetsnamederic'."
   ]
  },
  {
   "cell_type": "code",
   "execution_count": 39,
   "id": "fb085f78",
   "metadata": {},
   "outputs": [],
   "source": [
    "12. If you had a bacon() feature in a spam module, what would you call it after importing spam?\n",
    "\n",
    "spam.bacon()"
   ]
  },
  {
   "cell_type": "code",
   "execution_count": 40,
   "id": "10da6162",
   "metadata": {},
   "outputs": [
    {
     "data": {
      "text/plain": [
       "108"
      ]
     },
     "execution_count": 40,
     "metadata": {},
     "output_type": "execute_result"
    }
   ],
   "source": [
    "13. What can you do to save a programme from crashing if it encounters an error?\n",
    "\n",
    "I can press CTRL+C tp stop the execution of the program."
   ]
  },
  {
   "cell_type": "code",
   "execution_count": null,
   "id": "aaac227a",
   "metadata": {},
   "outputs": [],
   "source": [
    "14. What is the purpose of the try clause? What is the purpose of the except clause?\n",
    "\n",
    "try clause lets one test a block of code for error. \n",
    "Except clause lets one handle the error.\n",
    "\n",
    "try:\n",
    "    a/0\n",
    "except:\n",
    "    print(\"error\")"
   ]
  },
  {
   "cell_type": "code",
   "execution_count": null,
   "id": "9397bad5",
   "metadata": {},
   "outputs": [],
   "source": []
  }
 ],
 "metadata": {
  "kernelspec": {
   "display_name": "Python 3 (ipykernel)",
   "language": "python",
   "name": "python3"
  },
  "language_info": {
   "codemirror_mode": {
    "name": "ipython",
    "version": 3
   },
   "file_extension": ".py",
   "mimetype": "text/x-python",
   "name": "python",
   "nbconvert_exporter": "python",
   "pygments_lexer": "ipython3",
   "version": "3.9.7"
  }
 },
 "nbformat": 4,
 "nbformat_minor": 5
}
